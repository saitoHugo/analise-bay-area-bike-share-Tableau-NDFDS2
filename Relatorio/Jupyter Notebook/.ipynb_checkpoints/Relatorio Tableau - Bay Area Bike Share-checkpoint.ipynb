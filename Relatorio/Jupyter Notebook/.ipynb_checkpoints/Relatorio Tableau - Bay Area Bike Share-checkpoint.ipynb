{
 "cells": [
  {
   "cell_type": "code",
   "execution_count": 1,
   "metadata": {
    "collapsed": true
   },
   "outputs": [],
   "source": [
    "# Importa todas as bibliotecas necessárias\n",
    "%matplotlib inline\n",
    "import csv\n",
    "from datetime import datetime\n",
    "import numpy as np\n",
    "import pandas as pd\n",
    "from IPython.display import display"
   ]
  },
  {
   "cell_type": "markdown",
   "metadata": {},
   "source": [
    "\n",
    "## Dataset Bay Area Bike Share\n",
    "\n",
    "[Bay Area Bike Share](http://www.bayareabikeshare.com/) é uma empresa que oferece aluguel de bicicletas on-demand para clientes em San Francisco, Redwood City, Palo Alto, Mountain View e San Jose. Os usuários podem desbloquear bicicletas de uma variedade de estações em cada cidade, e devolvê-las em qualquer estação dentro da mesma cidade. Os usuários pagam o serviço por meio de assinatura anual ou pela compra de passes de 3 dias ou 24 horas. Os usuários podem fazer um número ilimitado de viagens. Viagens com menos de trinta minutos de duração não têm custo adicional; Viagens mais longas incorrem em taxas de horas extras.\n",
    "\n",
    "O análise dos dados foi realizada em 4 etapas:\n",
    "\n",
    "1) Qual o objetivo da análise que está sendo realizada?\n",
    "\n",
    "2) Limpeza dos Dados\n",
    "\n",
    "3) Análise Explorátória\n",
    "\n",
    "4) Visualização no Tableau\n",
    "\n",
    "\n",
    "### ETAPA 1 - OBJETIVO\n",
    "\n",
    "**OBJEIVO: ** O objetivo dessa análise é entender quais são as características e diferença entre os dois tipos de usuários, analisando os horários de picos, duração da locação e frequancia ao longo dos dias da semana.\n",
    "\n",
    "\n",
    "### ETAPA 2 - Data Wrangling\n",
    "\n",
    "Os dados coletados do site da empresa estavam divididos em 3 períodos de tempo (\"201402\", \"201408\", \"201508\"), onde para cada período existiam 3 arquivos:\n",
    "\n",
    "- Informações sobre cada viagem (\"..._trip_data.csv\")\n",
    "- Informações sobre as estações (\"..._station_data.csv\")\n",
    "- Dados meteorológicos diários para cada cidade (\"..._weather_data.csv\")\n",
    "\n",
    "Ao relizar o Data Wrangling, os dados foram tratados, selecionados e unificados em um único arquivo chamada: \"trip_data.csv\"\n",
    "\n",
    "**OBS: **A limpeza de dados pode ser encotrada no arquivo \"Data Wranling - ETAPA 2.ipynb\" e foi enviado na submissão do projeto. \n",
    "\n",
    "Segue abaixo uma amostra do arquivo final:"
   ]
  },
  {
   "cell_type": "code",
   "execution_count": 2,
   "metadata": {},
   "outputs": [
    {
     "data": {
      "text/html": [
       "<div>\n",
       "<style>\n",
       "    .dataframe thead tr:only-child th {\n",
       "        text-align: right;\n",
       "    }\n",
       "\n",
       "    .dataframe thead th {\n",
       "        text-align: left;\n",
       "    }\n",
       "\n",
       "    .dataframe tbody tr th {\n",
       "        vertical-align: top;\n",
       "    }\n",
       "</style>\n",
       "<table border=\"1\" class=\"dataframe\">\n",
       "  <thead>\n",
       "    <tr style=\"text-align: right;\">\n",
       "      <th></th>\n",
       "      <th>duration</th>\n",
       "      <th>start_date</th>\n",
       "      <th>start_year</th>\n",
       "      <th>start_month</th>\n",
       "      <th>start_hour</th>\n",
       "      <th>weekday</th>\n",
       "      <th>start_city</th>\n",
       "      <th>end_city</th>\n",
       "      <th>subscription_type</th>\n",
       "    </tr>\n",
       "  </thead>\n",
       "  <tbody>\n",
       "    <tr>\n",
       "      <th>0</th>\n",
       "      <td>1.050000</td>\n",
       "      <td>29/08/2013</td>\n",
       "      <td>2013</td>\n",
       "      <td>8</td>\n",
       "      <td>14</td>\n",
       "      <td>3</td>\n",
       "      <td>San Francisco</td>\n",
       "      <td>San Francisco</td>\n",
       "      <td>Subscriber</td>\n",
       "    </tr>\n",
       "    <tr>\n",
       "      <th>1</th>\n",
       "      <td>1.166667</td>\n",
       "      <td>29/08/2013</td>\n",
       "      <td>2013</td>\n",
       "      <td>8</td>\n",
       "      <td>14</td>\n",
       "      <td>3</td>\n",
       "      <td>San Jose</td>\n",
       "      <td>San Jose</td>\n",
       "      <td>Subscriber</td>\n",
       "    </tr>\n",
       "    <tr>\n",
       "      <th>2</th>\n",
       "      <td>1.183333</td>\n",
       "      <td>29/08/2013</td>\n",
       "      <td>2013</td>\n",
       "      <td>8</td>\n",
       "      <td>10</td>\n",
       "      <td>3</td>\n",
       "      <td>Mountain View</td>\n",
       "      <td>Mountain View</td>\n",
       "      <td>Subscriber</td>\n",
       "    </tr>\n",
       "    <tr>\n",
       "      <th>3</th>\n",
       "      <td>1.283333</td>\n",
       "      <td>29/08/2013</td>\n",
       "      <td>2013</td>\n",
       "      <td>8</td>\n",
       "      <td>11</td>\n",
       "      <td>3</td>\n",
       "      <td>San Jose</td>\n",
       "      <td>San Jose</td>\n",
       "      <td>Subscriber</td>\n",
       "    </tr>\n",
       "    <tr>\n",
       "      <th>4</th>\n",
       "      <td>1.383333</td>\n",
       "      <td>29/08/2013</td>\n",
       "      <td>2013</td>\n",
       "      <td>8</td>\n",
       "      <td>12</td>\n",
       "      <td>3</td>\n",
       "      <td>San Francisco</td>\n",
       "      <td>San Francisco</td>\n",
       "      <td>Subscriber</td>\n",
       "    </tr>\n",
       "    <tr>\n",
       "      <th>5</th>\n",
       "      <td>1.716667</td>\n",
       "      <td>29/08/2013</td>\n",
       "      <td>2013</td>\n",
       "      <td>8</td>\n",
       "      <td>18</td>\n",
       "      <td>3</td>\n",
       "      <td>San Francisco</td>\n",
       "      <td>San Francisco</td>\n",
       "      <td>Subscriber</td>\n",
       "    </tr>\n",
       "    <tr>\n",
       "      <th>6</th>\n",
       "      <td>1.816667</td>\n",
       "      <td>29/08/2013</td>\n",
       "      <td>2013</td>\n",
       "      <td>8</td>\n",
       "      <td>13</td>\n",
       "      <td>3</td>\n",
       "      <td>San Jose</td>\n",
       "      <td>San Jose</td>\n",
       "      <td>Subscriber</td>\n",
       "    </tr>\n",
       "    <tr>\n",
       "      <th>7</th>\n",
       "      <td>1.850000</td>\n",
       "      <td>29/08/2013</td>\n",
       "      <td>2013</td>\n",
       "      <td>8</td>\n",
       "      <td>14</td>\n",
       "      <td>3</td>\n",
       "      <td>San Jose</td>\n",
       "      <td>San Jose</td>\n",
       "      <td>Subscriber</td>\n",
       "    </tr>\n",
       "    <tr>\n",
       "      <th>8</th>\n",
       "      <td>1.883333</td>\n",
       "      <td>29/08/2013</td>\n",
       "      <td>2013</td>\n",
       "      <td>8</td>\n",
       "      <td>17</td>\n",
       "      <td>3</td>\n",
       "      <td>San Francisco</td>\n",
       "      <td>San Francisco</td>\n",
       "      <td>Subscriber</td>\n",
       "    </tr>\n",
       "    <tr>\n",
       "      <th>9</th>\n",
       "      <td>1.900000</td>\n",
       "      <td>29/08/2013</td>\n",
       "      <td>2013</td>\n",
       "      <td>8</td>\n",
       "      <td>11</td>\n",
       "      <td>3</td>\n",
       "      <td>San Jose</td>\n",
       "      <td>San Jose</td>\n",
       "      <td>Subscriber</td>\n",
       "    </tr>\n",
       "    <tr>\n",
       "      <th>10</th>\n",
       "      <td>2.083333</td>\n",
       "      <td>29/08/2013</td>\n",
       "      <td>2013</td>\n",
       "      <td>8</td>\n",
       "      <td>13</td>\n",
       "      <td>3</td>\n",
       "      <td>San Francisco</td>\n",
       "      <td>San Francisco</td>\n",
       "      <td>Subscriber</td>\n",
       "    </tr>\n",
       "    <tr>\n",
       "      <th>11</th>\n",
       "      <td>2.100000</td>\n",
       "      <td>29/08/2013</td>\n",
       "      <td>2013</td>\n",
       "      <td>8</td>\n",
       "      <td>13</td>\n",
       "      <td>3</td>\n",
       "      <td>San Jose</td>\n",
       "      <td>San Jose</td>\n",
       "      <td>Subscriber</td>\n",
       "    </tr>\n",
       "    <tr>\n",
       "      <th>12</th>\n",
       "      <td>2.150000</td>\n",
       "      <td>29/08/2013</td>\n",
       "      <td>2013</td>\n",
       "      <td>8</td>\n",
       "      <td>19</td>\n",
       "      <td>3</td>\n",
       "      <td>Mountain View</td>\n",
       "      <td>Mountain View</td>\n",
       "      <td>Subscriber</td>\n",
       "    </tr>\n",
       "    <tr>\n",
       "      <th>13</th>\n",
       "      <td>2.166667</td>\n",
       "      <td>29/08/2013</td>\n",
       "      <td>2013</td>\n",
       "      <td>8</td>\n",
       "      <td>13</td>\n",
       "      <td>3</td>\n",
       "      <td>San Francisco</td>\n",
       "      <td>San Francisco</td>\n",
       "      <td>Subscriber</td>\n",
       "    </tr>\n",
       "    <tr>\n",
       "      <th>14</th>\n",
       "      <td>2.233333</td>\n",
       "      <td>29/08/2013</td>\n",
       "      <td>2013</td>\n",
       "      <td>8</td>\n",
       "      <td>12</td>\n",
       "      <td>3</td>\n",
       "      <td>San Francisco</td>\n",
       "      <td>San Francisco</td>\n",
       "      <td>Subscriber</td>\n",
       "    </tr>\n",
       "    <tr>\n",
       "      <th>15</th>\n",
       "      <td>2.300000</td>\n",
       "      <td>29/08/2013</td>\n",
       "      <td>2013</td>\n",
       "      <td>8</td>\n",
       "      <td>16</td>\n",
       "      <td>3</td>\n",
       "      <td>San Francisco</td>\n",
       "      <td>San Francisco</td>\n",
       "      <td>Subscriber</td>\n",
       "    </tr>\n",
       "    <tr>\n",
       "      <th>16</th>\n",
       "      <td>2.350000</td>\n",
       "      <td>29/08/2013</td>\n",
       "      <td>2013</td>\n",
       "      <td>8</td>\n",
       "      <td>11</td>\n",
       "      <td>3</td>\n",
       "      <td>San Jose</td>\n",
       "      <td>San Jose</td>\n",
       "      <td>Subscriber</td>\n",
       "    </tr>\n",
       "    <tr>\n",
       "      <th>17</th>\n",
       "      <td>2.366667</td>\n",
       "      <td>29/08/2013</td>\n",
       "      <td>2013</td>\n",
       "      <td>8</td>\n",
       "      <td>12</td>\n",
       "      <td>3</td>\n",
       "      <td>San Francisco</td>\n",
       "      <td>San Francisco</td>\n",
       "      <td>Subscriber</td>\n",
       "    </tr>\n",
       "    <tr>\n",
       "      <th>18</th>\n",
       "      <td>2.366667</td>\n",
       "      <td>29/08/2013</td>\n",
       "      <td>2013</td>\n",
       "      <td>8</td>\n",
       "      <td>22</td>\n",
       "      <td>3</td>\n",
       "      <td>San Francisco</td>\n",
       "      <td>San Francisco</td>\n",
       "      <td>Subscriber</td>\n",
       "    </tr>\n",
       "    <tr>\n",
       "      <th>19</th>\n",
       "      <td>2.400000</td>\n",
       "      <td>29/08/2013</td>\n",
       "      <td>2013</td>\n",
       "      <td>8</td>\n",
       "      <td>22</td>\n",
       "      <td>3</td>\n",
       "      <td>San Francisco</td>\n",
       "      <td>San Francisco</td>\n",
       "      <td>Subscriber</td>\n",
       "    </tr>\n",
       "  </tbody>\n",
       "</table>\n",
       "</div>"
      ],
      "text/plain": [
       "    duration  start_date  start_year  start_month  start_hour  weekday  \\\n",
       "0   1.050000  29/08/2013        2013            8          14        3   \n",
       "1   1.166667  29/08/2013        2013            8          14        3   \n",
       "2   1.183333  29/08/2013        2013            8          10        3   \n",
       "3   1.283333  29/08/2013        2013            8          11        3   \n",
       "4   1.383333  29/08/2013        2013            8          12        3   \n",
       "5   1.716667  29/08/2013        2013            8          18        3   \n",
       "6   1.816667  29/08/2013        2013            8          13        3   \n",
       "7   1.850000  29/08/2013        2013            8          14        3   \n",
       "8   1.883333  29/08/2013        2013            8          17        3   \n",
       "9   1.900000  29/08/2013        2013            8          11        3   \n",
       "10  2.083333  29/08/2013        2013            8          13        3   \n",
       "11  2.100000  29/08/2013        2013            8          13        3   \n",
       "12  2.150000  29/08/2013        2013            8          19        3   \n",
       "13  2.166667  29/08/2013        2013            8          13        3   \n",
       "14  2.233333  29/08/2013        2013            8          12        3   \n",
       "15  2.300000  29/08/2013        2013            8          16        3   \n",
       "16  2.350000  29/08/2013        2013            8          11        3   \n",
       "17  2.366667  29/08/2013        2013            8          12        3   \n",
       "18  2.366667  29/08/2013        2013            8          22        3   \n",
       "19  2.400000  29/08/2013        2013            8          22        3   \n",
       "\n",
       "       start_city       end_city subscription_type  \n",
       "0   San Francisco  San Francisco        Subscriber  \n",
       "1        San Jose       San Jose        Subscriber  \n",
       "2   Mountain View  Mountain View        Subscriber  \n",
       "3        San Jose       San Jose        Subscriber  \n",
       "4   San Francisco  San Francisco        Subscriber  \n",
       "5   San Francisco  San Francisco        Subscriber  \n",
       "6        San Jose       San Jose        Subscriber  \n",
       "7        San Jose       San Jose        Subscriber  \n",
       "8   San Francisco  San Francisco        Subscriber  \n",
       "9        San Jose       San Jose        Subscriber  \n",
       "10  San Francisco  San Francisco        Subscriber  \n",
       "11       San Jose       San Jose        Subscriber  \n",
       "12  Mountain View  Mountain View        Subscriber  \n",
       "13  San Francisco  San Francisco        Subscriber  \n",
       "14  San Francisco  San Francisco        Subscriber  \n",
       "15  San Francisco  San Francisco        Subscriber  \n",
       "16       San Jose       San Jose        Subscriber  \n",
       "17  San Francisco  San Francisco        Subscriber  \n",
       "18  San Francisco  San Francisco        Subscriber  \n",
       "19  San Francisco  San Francisco        Subscriber  "
      ]
     },
     "metadata": {},
     "output_type": "display_data"
    }
   ],
   "source": [
    "trip_data = pd.read_csv('trip_data.csv')\n",
    "\n",
    "display(trip_data.head(20))"
   ]
  },
  {
   "cell_type": "markdown",
   "metadata": {},
   "source": [
    "### ETAPA 3 - Análise Exploratória\n",
    "\n",
    "Nessa etapa, realizei uma exploração e algumas visuzalições buscando encontrar a resposta para o objetivo proposto. \n",
    "\n",
    "**Número Total de Viagens:**"
   ]
  },
  {
   "cell_type": "code",
   "execution_count": 3,
   "metadata": {},
   "outputs": [
    {
     "name": "stdout",
     "output_type": "stream",
     "text": [
      "O total de viagens realizadas nesse novo arquivo é de  669959\n"
     ]
    }
   ],
   "source": [
    "print 'O total de viagens realizadas nesse novo arquivo é de ', len(trip_data.index)"
   ]
  },
  {
   "cell_type": "markdown",
   "metadata": {},
   "source": [
    "**Separando os dados pelo tipo de inscrição:** "
   ]
  },
  {
   "cell_type": "code",
   "execution_count": 4,
   "metadata": {},
   "outputs": [
    {
     "name": "stdout",
     "output_type": "stream",
     "text": [
      "The type of variable 'customer' is  <class 'pandas.core.frame.DataFrame'>\n",
      "The type of variable 'subscriber' is  <class 'pandas.core.frame.DataFrame'>\n",
      "\n",
      "\n",
      "    duration  start_hour  weekday subscription_type\n",
      "24  2.683333          10        3          Customer\n",
      "30  2.883333          11        3          Customer\n",
      "41  3.133333          19        3          Customer\n",
      "48  3.483333          17        3          Customer\n",
      "51  3.566667          17        3          Customer\n",
      "   duration  start_hour  weekday subscription_type\n",
      "0  1.050000          14        3        Subscriber\n",
      "1  1.166667          14        3        Subscriber\n",
      "2  1.183333          10        3        Subscriber\n",
      "3  1.283333          11        3        Subscriber\n",
      "4  1.383333          12        3        Subscriber\n",
      "\n",
      "\n",
      "O número de viagens realizadas é de  566746 para os usuários do tipo 'Subscriber' e  103213  para os usuários do tipo 'Cutomer'. Condizente com o valor total anteriormente encontrado.\n"
     ]
    }
   ],
   "source": [
    "#Separando por subscription_type\n",
    "\n",
    "\n",
    "customer = trip_data[['duration', 'start_hour', 'weekday', 'subscription_type']][trip_data['subscription_type'] == 'Customer']\n",
    "subscriber = trip_data[['duration', 'start_hour', 'weekday', 'subscription_type']][trip_data['subscription_type'] == 'Subscriber']\n",
    "\n",
    "print \"The type of variable 'customer' is \", type(customer)\n",
    "print \"The type of variable 'subscriber' is \", type(subscriber)\n",
    "print '\\n'\n",
    "\n",
    "print customer.head()\n",
    "print subscriber.head()\n",
    "print '\\n'\n",
    "\n",
    "#print customer.tail()\n",
    "#print subscriber.tail()\n",
    "#print '\\n'\n",
    "\n",
    "\n",
    "#print len(list(subscriber.values)) \n",
    "#print len(list(customer.values))\n",
    "#print '\\n'\n",
    "print 'O número de viagens realizadas é de ', len(subscriber.index), \"para os usuários do tipo 'Subscriber' e \", len(customer.index), \" para os usuários do tipo 'Cutomer'. Condizente com o valor total anteriormente encontrado.\""
   ]
  },
  {
   "cell_type": "markdown",
   "metadata": {},
   "source": [
    "**Qual o start_hour de maior movimento?**"
   ]
  },
  {
   "cell_type": "code",
   "execution_count": 5,
   "metadata": {
    "collapsed": true
   },
   "outputs": [],
   "source": [
    "#Definindo a função que retorna o start_hour de maior movimento\n",
    "def busy_hour(data_file):\n",
    "    #empty dict with all possibles start_hour\n",
    "    start_hours = {0:int(), 1:int(), 2:int(), 3:int(), 4:int(), 5:int(), 6:int(), 7:int(), 8:int(), 9:int(), 10:int(), 11:int(), 12:int(),\n",
    "                   13:int(), 14:int(), 15:int(), 16:int(), 17:int(), 18:int(), 19:int(), 20:int(), 21:int(), 22:int(), 23:int()}\n",
    "    #print type(start_hours.keys()[0])\n",
    "    for hour in data_file['start_hour']:\n",
    "        start_hours[hour] += 1\n",
    "    return start_hours"
   ]
  },
  {
   "cell_type": "code",
   "execution_count": 6,
   "metadata": {
    "collapsed": true
   },
   "outputs": [],
   "source": [
    "#aplicando para os dois tipos de usuario\n",
    "hours_subscriber = busy_hour(subscriber)\n",
    "hours_customer = busy_hour(customer)"
   ]
  },
  {
   "cell_type": "markdown",
   "metadata": {},
   "source": [
    "**Criando visualização dos horários de maior movimento para cada tipo de inscrição**"
   ]
  },
  {
   "cell_type": "code",
   "execution_count": 7,
   "metadata": {
    "collapsed": true
   },
   "outputs": [],
   "source": [
    "#Usando matplot.pylab para plotar o comportamento e identificar os horários de maior movimento\n",
    "import matplotlib.pyplot as plt"
   ]
  },
  {
   "cell_type": "markdown",
   "metadata": {},
   "source": [
    "- **Para 'subscriber'**"
   ]
  },
  {
   "cell_type": "code",
   "execution_count": 8,
   "metadata": {},
   "outputs": [
    {
     "name": "stdout",
     "output_type": "stream",
     "text": [
      "O total de viagens ralizadas por usuários do tipo 'subscriber' é de  566746\n"
     ]
    },
    {
     "data": {
      "text/plain": [
       "[0, 23, 0, 83000]"
      ]
     },
     "execution_count": 8,
     "metadata": {},
     "output_type": "execute_result"
    },
    {
     "data": {
      "image/png": "[encoded data removed]",
      "text/plain": [
       "<matplotlib.figure.Figure at 0x269cdd8>"
      ]
     },
     "metadata": {},
     "output_type": "display_data"
    }
   ],
   "source": [
    "subscriber_x = hours_subscriber.keys()\n",
    "subscriber_y = hours_subscriber.values()\n",
    "\n",
    "print \"O total de viagens ralizadas por usuários do tipo 'subscriber' é de \", sum(subscriber_y)\n",
    "\n",
    "plt.plot(subscriber_x, subscriber_y)\n",
    "plt.xlabel('Start Hour')\n",
    "plt.ylabel('Frequency')\n",
    "plt.title('Busy Hours for Subscriber')\n",
    "plt.axis([0, 23, 0, 83000])\n"
   ]
  },
  {
   "cell_type": "markdown",
   "metadata": {},
   "source": [
    "*Ánalise do Gráfico 'Busy Hours for Subscriber':*\n",
    "\n",
    "    Podemos perceber que existem dois horários de grandes picos de movimento no caso do usuario 'subscriber'. O primeiro é no período entre as 7 e 9h e o segundo das entre as 16 e as 18h. Também há um pico menor aproximadamente as 12h."
   ]
  },
  {
   "cell_type": "markdown",
   "metadata": {},
   "source": [
    "- **Para 'customer'**"
   ]
  },
  {
   "cell_type": "code",
   "execution_count": 9,
   "metadata": {},
   "outputs": [
    {
     "name": "stdout",
     "output_type": "stream",
     "text": [
      "O total de viagens ralizadas por usuários do tipo 'customer' é de  103213\n"
     ]
    },
    {
     "data": {
      "text/plain": [
       "[0, 23, 0, 10000]"
      ]
     },
     "execution_count": 9,
     "metadata": {},
     "output_type": "execute_result"
    },
    {
     "data": {
      "image/png": "[encoded data removed]",
      "text/plain": [
       "<matplotlib.figure.Figure at 0x8bd02e8>"
      ]
     },
     "metadata": {},
     "output_type": "display_data"
    }
   ],
   "source": [
    "customer_x = hours_customer.keys()\n",
    "customer_y = hours_customer.values()\n",
    "\n",
    "print  \"O total de viagens ralizadas por usuários do tipo 'customer' é de \", sum(customer_y)\n",
    "\n",
    "plt.plot(customer_x, customer_y)\n",
    "plt.xlabel('Start Hour')\n",
    "plt.ylabel('Frequency')\n",
    "plt.title('Busy Hours for Customer')\n",
    "plt.axis([0, 23, 0, 10000])"
   ]
  },
  {
   "cell_type": "markdown",
   "metadata": {},
   "source": [
    "*Ánalise do Gráfico 'Busy Hours for Subscriber':*\n",
    "\n",
    "    Podemos perceber que existem um único horário de grande movimento entre 12 e 17h."
   ]
  },
  {
   "cell_type": "markdown",
   "metadata": {},
   "source": [
    "**RESUMO ATÉ AQUI: **É possível observar que os diferentes tipos de usuários apresentam diferentes comportamento no que diz a respeito dos horários de urlização. Agora, a análise seguirá para análisar informações estatísticas BÁSICAS sobre a duração de seus viagens e dias de utlização, comparando a utilização em dias de semana e finais de semana. "
   ]
  },
  {
   "cell_type": "markdown",
   "metadata": {},
   "source": [
    "**Análise sobre a duração das viagens**"
   ]
  },
  {
   "cell_type": "code",
   "execution_count": 10,
   "metadata": {},
   "outputs": [
    {
     "name": "stdout",
     "output_type": "stream",
     "text": [
      "count    182131.000000\n",
      "mean          9.517797\n",
      "std          36.072745\n",
      "min           1.000000\n",
      "25%           5.616667\n",
      "50%           8.083333\n",
      "75%          11.116667\n",
      "max       10322.033333\n",
      "Name: duration, dtype: float64\n"
     ]
    }
   ],
   "source": [
    "# Para usuários 'subscriber' a análise será feita no intervalo de maior movimento, ou seja, \n",
    "#entre as 6 e as 9h. Intervalo definido com base no gráfico 'Busy Hours for Subscriber'.\n",
    "\n",
    "#Filtrando pelo horário\n",
    "subscriber_busy = subscriber[['duration', 'start_hour']][(subscriber['start_hour']>=7) & (subscriber['start_hour']<=9)]\n",
    "\n",
    "#Estatistica com describe() function\n",
    "print subscriber_busy['duration'].describe()\n"
   ]
  },
  {
   "cell_type": "code",
   "execution_count": 11,
   "metadata": {},
   "outputs": [
    {
     "data": {
      "text/plain": [
       "count     99353.000000\n",
       "mean         64.061153\n",
       "std         946.387841\n",
       "min           1.000000\n",
       "25%          10.983333\n",
       "50%          18.600000\n",
       "75%          38.600000\n",
       "max      287840.000000\n",
       "Name: duration, dtype: float64"
      ]
     },
     "execution_count": 11,
     "metadata": {},
     "output_type": "execute_result"
    }
   ],
   "source": [
    "# Para usuários 'customer' a análise será feita no intervalo de 7 a 22h, visto que existe \n",
    "#apenas um intervalo de maior movimento e já tão acentuado como no caso do 'subscriber'. \n",
    "#Intervalo definido com base no gráfico 'Busy Hours for Customer'.\n",
    "\n",
    "#Filtrando pelo horário\n",
    "customer_busy = customer[['duration', 'weekday', 'start_hour']][(customer['start_hour']>=7) & (customer['start_hour']<=22)]\n",
    "\n",
    "##Estatistica com describe() function\n",
    "customer_busy['duration'].describe()"
   ]
  },
  {
   "cell_type": "markdown",
   "metadata": {},
   "source": [
    "*Análise dos dados estatísticos sobre a 'duration'*\n",
    "\n",
    "Mesmo os desvios padrões apresentarem valores muito altos, devido a outlinears que não foram tratados, já é possível perceber outra caracteristíca em relação ao tipo de usuário. Os usuários do tipo 'customer' utilizam as bicicletas para trajetos curtos (menos de 30min) e os usuários do tipo 'subscriber' utilizam por as bicicletas por grandes períodos de duração."
   ]
  },
  {
   "cell_type": "markdown",
   "metadata": {},
   "source": [
    "**Análise dos dias da semana de maior utilização**\n",
    "\n",
    "Para essa análise o objetivo é plotar os dias da semana e número de viagens realizadas para cada dia, comparando os dias de maior movimento para os dois tipos de usuários.\n"
   ]
  },
  {
   "cell_type": "markdown",
   "metadata": {},
   "source": [
    "- **Para 'subscriber'**"
   ]
  },
  {
   "cell_type": "code",
   "execution_count": 12,
   "metadata": {},
   "outputs": [
    {
     "data": {
      "text/plain": [
       "<matplotlib.text.Text at 0xdfe7ef0>"
      ]
     },
     "execution_count": 12,
     "metadata": {},
     "output_type": "execute_result"
    },
    {
     "data": {
      "image/png": "[encoded data removed]",
      "text/plain": [
       "<matplotlib.figure.Figure at 0xdfc54a8>"
      ]
     },
     "metadata": {},
     "output_type": "display_data"
    }
   ],
   "source": [
    "#Filtrando para um Pandas.Series com apenas os weeksdays\n",
    "subscriber_weekday = subscriber['weekday']\n",
    "\n",
    "#Criando um histograma que mostre a frequencia de utilização para cada dia da semana\n",
    "subscriber_weekday.hist(range=(0,7), bins=7)\n",
    "plt.xlim(0,7)\n",
    "plt.ylim(0,120000)\n",
    "plt.title('Weekday x Frequency - Subscriber ')\n",
    "plt.xlabel('Weekdays')\n",
    "plt.ylabel('Frequency')\n"
   ]
  },
  {
   "cell_type": "markdown",
   "metadata": {},
   "source": [
    "*Análise do Gráfico 'Weekday x Frequency - Subscriber':*\n",
    "\n",
    "Queda abrupta de utilização dos serviços aos finais de semana."
   ]
  },
  {
   "cell_type": "markdown",
   "metadata": {},
   "source": [
    "- **Para 'customer'**"
   ]
  },
  {
   "cell_type": "code",
   "execution_count": 13,
   "metadata": {
    "scrolled": true
   },
   "outputs": [
    {
     "data": {
      "text/plain": [
       "<matplotlib.text.Text at 0xe31e7f0>"
      ]
     },
     "execution_count": 13,
     "metadata": {},
     "output_type": "execute_result"
    },
    {
     "data": {
      "image/png": "[encoded data removed]",
      "text/plain": [
       "<matplotlib.figure.Figure at 0x8bd0da0>"
      ]
     },
     "metadata": {},
     "output_type": "display_data"
    }
   ],
   "source": [
    "#Filtrando para um Pandas.Series com apenas os weeksdays\n",
    "customer_weekday = customer['weekday']\n",
    "\n",
    "#Criando um histograma que mostre a frequencia de utilização para cada dia da semana\n",
    "customer_weekday.hist(range=(0,7), bins=7)\n",
    "plt.xlim(0,7)\n",
    "plt.ylim(0,25000)\n",
    "plt.title('Weekday x Frequency - Customer ')\n",
    "plt.xlabel('Weekdays')\n",
    "plt.ylabel('Frequency')\n"
   ]
  },
  {
   "cell_type": "markdown",
   "metadata": {},
   "source": [
    "*Análise do Gráfico 'Weekday x Frequency - Customer':*\n",
    "\n",
    "Aumento significativo de utilização do serviço aos finais de semana."
   ]
  },
  {
   "attachments": {
    "paleta.png": {
     "image/png": "[encoded data removed]"
    }
   },
   "cell_type": "markdown",
   "metadata": {},
   "source": [
    "## ETAPA 4 - Visuzalição no Tableau\n",
    "\n",
    "Após a análise exploratória dos dados, é possível criar uma história no Tableau para reportar o que foi encontrado.\n",
    "\n",
    "### Links para os Workbooks do Tableau\n",
    "\n",
    "- VERSÃO INICIAL: [Bay Area Bike Share: Subscriber x Customer](https://public.tableau.com/views/BayAreaBikeShareSubscriberxCustomer/BayAreaBikeShareSubscriberxCustomer?:embed=y&:display_count=yes&:toolbar=no)\n",
    "\n",
    "- VERSÃO ATUALIZADA 1: [Bay Area Bike Share: Subscriber x Customer(ATUALIZADO)](https://public.tableau.com/views/BayAreaBikeShareSubscriberxCustomerATUALIZADO/BayAreaBikeShareSubscriberxCustomer?:embed=y&:display_count=yes&:toolbar=no)\n",
    "\n",
    "- VERSÃO ATUALIZADA 2: [Bay Area Bike Share: Diferentes Comportamentos dos Usuários Subscriber e Customer](https://public.tableau.com/views/BayAreaBikeShareDiferentesComportamentosdosUsuriosSubscribereCustomer/BayAreaBikeShareDiferentesComportamentosdosUsuriosSubscribereCustomer?:embed=y&:display_count=yes&publish=yes&:toolbar=no)\n",
    "\n",
    "- VERSÃO ATUALIZADA 3: [Bay Area Bike Share: Diferentes Comportamentos dos Usuários Subscriber e Customer](https://public.tableau.com/views/BayAreaBikeShareDiferentesComportamentosdosUsuriosSubscribereCustomeratualizado/BayAreaBikeShareDiferentesComportamentosdosUsuriosSubscribereCustomer?:embed=y&:display_count=yes&publish=yes&:toolbar=no)\n",
    "\n",
    "### Resumo\n",
    "\n",
    "A história criada evidencia os diferentes comportamentos dos usuários, onde os os usuários do tipo 'Subscriber' apresentam pico bem definidos nos horários de rotina de trabalho(8h, 12h, 18h), já os usuários do tipo 'Customer' não apresentam picos de movimento, apenas ocorre um aumento (em uma taxa bem menor) entre o período das 9h as 18h. \n",
    "Em relação ao tempo médio de uso constatou-se outra grande diferença, onde os usuários tipo 'Customer' realizam alugueis com grandes tempos de duração e os do tipo 'Subscriber' fazem o uso para pequenos deslocamentos. Quanto aos dias da semana de utilização os usuários do tipo 'Subscriber' utilizam o serviço predominantemente nos dias da semana. O oposto ocorre com os usuários do tipo 'customer'. Os usuários 'Subscriber' utilizam o serviço como locomoção no dia a dia, em suas rotinas e não como lazer. O oposto ocorre com os do tipo 'Customer' onde ocorre um aumento de utilização do serviço aos finais de semana, porém a diferença de número de usuários nos dias de semana não é tão diferente aos finais de semana (quando compardo com os usuários do tipo 'subscriber') portanto esse tipo de usuários devem ser turistas visto que a região é um grande ponto turístico.\n",
    "\n",
    "### Design\n",
    "\n",
    "Os dados que foram utilizados na visualização inicial foram:\n",
    "\n",
    "- Tipo de usuário: dado categorico nominal\n",
    "- Duração da locação: dado quantitativo contínuo\n",
    "- Dia da semana: dado categórico ordinal (ordenado)\n",
    "- Hora de início: variável discreta\n",
    "\n",
    "Inicialmente, escolhi explicar do que se tratava os dados e qual o objetivo com a análise realizada.\n",
    "Após deixar isso claro, achei interessantes começar mostrando uma das análises exploratórias que realizei quando tive o primeiro contato com os dados. Mostrei a proporção entre cada tipo de usuário para um entendimento mais geral, e não menos importante, sobre os dados. \n",
    "\n",
    "Após essa introdução, iniciei a análise explanatória dos dados. Mostrei o comportamento dos dois tipos de usuários para três parâmetros diferentes (hora de início, duração e frequência de utilização ao longo dos dias da semana).\n",
    "\n",
    "OBS: Cores para cada tipo de usuário facilitam a identificação e foram utilizadas azul para os usuários 'customer' e laranja para os usuários 'subscriber' para todos os gráficos, criando um padrão para todo o projeto.\n",
    "\n",
    "\n",
    "1) Para mostrar os horários de pico de utilização do serviço plotei um gráfico de linha (eixo duplo) comparando os usuários. Mesmo nos dados a hora de início ser classificado apenas como valores inteiros, utilizei o gráfico de linha para enfatizar o padrão geral dos usuários e plotei os dos usuários em um único gráfico, com diferentes cores, para facilitar a comparação.\n",
    "\n",
    "2) Para evidenciar a diferença entre a média de duração entre os usuários, utilizei o gráfico de baras por ser simples e objetivo para mostrar essa diferença. Cores auxiliam na comparação. \n",
    "\n",
    "3) Visando comprar o comportamento dos dois usuários ao longo dos dias da semana, e como os dias da semana são dados categóricos, escolhi novamente o gráfico de barras, mas dessa vez preferi utilizar dois gráficos, pois não queria comprar os valores (barra dupla para cada dia da semana em um único gráfico), gostaria de evidenciar a diferença de comportamento entre os dois usuários. Aqui, coloquei os títulos dos gráficos na cores padrão de cada tipo de usuário para facilitar a associação do usuário e manter o pdrão. Usei as mesmas cores para identificar os dias da semana nos dois gráficos (única legenda para os dois gráficos) e inseri 'actions' para facilitar a comparação e melhorar a experiência de quem está visualizando a história.\n",
    "\n",
    "Após evidenciar as diferenças encontradas, fui em busca de concluir para unir as infomações encontradas.\n",
    "Com isso, criei uma única visualização com todas as 3 visualizações explanatórias e criei iteratividade entre elas visando destadar todos os dados de cada tipo de usuários, bem como comprar os dias da semana. \n",
    "Por fim, coloquei um texto conclusivo para o fechamento da ideia encontrada. Caracterizei os dois diferentes tipo de usuários e seus custumes com base nos dados do aluguel das bicicletas.\n",
    "\n",
    "**JUSTIFICATIVA SOBRE AS CORES ESCOLHIDA**\n",
    "\n",
    "Sobre a cor azul para os usuário do tipo Customer e a cor laranaja para os usuários do tipo Subscriber, escolhi duas cores sólidas e de grande contraste, visto que são categorias (qualitativos) e eu buscava deixar claro a separação ao longo de todas as visualizações do projeto. Essas cores foram adotadas como padrão para a história inteira. Além do que essas cores não causam problemas para pessoas com Daltonismo. \n",
    "\n",
    "Agora, em relação as cores utilizadas para os dias da semana, como são dados qualitativos, eu usei uma paleta qualitativa. Com isso, eu busquei escolher as cores com mais contrate entre elas, visando deixar claro quais eram os dias da semana de cada coluna. A pelata escolhida foi:\n",
    "\n",
    "![paleta.png](attachment:paleta.png)\n",
    "\n",
    "\n",
    "** APÓS COLETA DOS FEEDBACKs **\n",
    "\n",
    "Foram realizadas 04 mudanças:\n",
    "\n",
    "1ª) Correção no texto da visuzalização sobre a média de duração sobre das viagens. \n",
    "\n",
    "2ª) Mesmo com os eixos mostrando os valores na visualização sobre os dias da semana, existe tendência em achar que o número de viagens para o grupo Subscriber é maior, portanto foi esclarecido isso em o forma de texto nesse slide.\n",
    "\n",
    "3ª) Foram alteradas algumas palavras repetidas.\n",
    "\n",
    "4ª) Melhora na localização do texto da vsuzalição osbre a frequência de utlização ao longo do semana. \n",
    "\n",
    "** APÓS REVISÃO 1 DO UDACITY **\n",
    "\n",
    "Foram realizadas as seguintes mudanças:\n",
    "\n",
    "1) Legendas foram alteradas para serem explicativas e não perguntas.\n",
    "\n",
    "2) Foram destacados alguns pontos específicos dos horários de pico.\n",
    "\n",
    "3) O Resumo foi alterado para descrever de forma clara o achado que ser quer demonstrar com a visualização.\n",
    "\n",
    "4) Alteração da classificação da variável \"Hora de Início\" para discreta\n",
    "\n",
    "5) O título foi altarado para ser mais representativo sobre a análise realizada.\n",
    "\n",
    "** APÓS REVISÃO 2 DO UDACITY **\n",
    "\n",
    "Foram realizadas as seguintes mudanças:\n",
    "\n",
    "1) O eixo dos gráficos foram renomeados para melhor representar os dados, adicionando-se as unidades das medidas.\n",
    "\n",
    "2) Os pontos em destaques também sofreream alteração de descrição de acordo com os eixos.\n",
    "\n",
    "3) O espaço para a legenda dos dias da semana foi aumentado para que o nome dos dias da semana sejam exibidos completos.\n",
    "\n",
    "4) Foi adicionado justificativa sobre a escolha da paleta e suas cores.\n",
    "\n",
    "### Comentários (Feedback)\n",
    "\n",
    "Abaixo seguem cópias dos feedbacks que recebi:\n",
    "\n",
    "\"Achei a visualização bem organizada, não há coisas desnecessárias nos slides, apenas informações concisas e importantes. Ali em \"Média de duração das viagens\" vc confundiu os tipos de costumers no texto! A conclusão é a mesma que vc tirou, até pq o Subscriber deve ser mais barato no final das contas, então esse é o tipo de gente que usa no dia a dia mesmo. Consegui entender tudo, bem feita Hugo! Só cuidado com a repetição de palavras no texto.\" \n",
    "\n",
    "\"Pela visualização dos gráficos percebe-se que a categoria Subscriber tem uma maior demanda em todas as variaveis avaliadas, inclusive na frequencia ao longo da semana, onde a visualização dos gráficos levam-nos acreditar que nos finais de semana a demanda da categoria cutomer é maior. O que não é verdade, comparando os dois grupos de usuarios nos finais de semana, constatamos uma diferença insignificante.\n",
    "A categoria subscriber  relaciona com usuários que utilizam tal meio de transporte para sua locomoção diária. E a categoria customer relaciona com usuários que utilizam esporadicamente, como lazer por exemplo. \n",
    "A principal conclusão é a predominância da categoria Subscriber. E se alguma tomada estratégica for tomada, que seja centrada nesse grupo. Não há algo que não entenda, somente o detalhe visual da comparação entre os dois grupos na variável 'frequencia ao longo da semana', que nos fazem acreditar que o numero de usuariaos da classe customer é bem maior do que a classe Subscriber.Outro ponto observado foi que um gráfico que esta com os tipos de usuarios trocados esta descrito que os usuários customer realiza trajetos de curta duração porem a barra do gráfico esta maior.\"\n",
    "\n",
    "\"Oi @hugo_saito, gostei da sua apresentação baseada no Trabalho Final do Data Science I. O Estudo de comportamento entre os dois tipos de usuários, seus horários de pico de utilização, bem como o comportamento nos dias da semana estão bastante claros. O única coisa são as escritas que você fez, as vezes elas estão encobrindo o gráfico. EU tentaria melhorar a apresentação neste sentido… De resto, gostei muito da apresentação\"\n",
    "\n",
    "\"Também gostei muito da apresentação! Assim como o Ademar comentou acima, só mudaria a parte da escrita na parte que você fala da frequência. Poderia colocar mais parecido com o que você fez na parte de horários de maior número de locação.\"\n",
    "\n",
    "\n",
    "### Recursos\n",
    "\n",
    "Segue abaixo links que contribuiram para a conclusão do projeto:\n",
    "\n",
    "- https://onlinehelp.tableau.com/current/pro/desktop/en-us/publish_workbooks_tableaupublic.html\n",
    "- https://www.tableau.com/learn/tutorials/on-demand/dashboard-interactivity-using-actions?product=&version=10.3&topic=dashboardsstories\n",
    "-http://onlinehelp.tableau.com/current/pro/desktop/en-us/help.htm#dashboards.html%3FTocPath%3DPresent%2520Your%2520Work%7CDashboards%7C_____0\n",
    "- http://www.perceptualedge.com/articles/misc/Graph_Selection_Matrix.pdf\n",
    "- http://www.perceptualedge.com/articles/ie/the_right_graph.pdf"
   ]
  },
  {
   "cell_type": "code",
   "execution_count": null,
   "metadata": {
    "collapsed": true
   },
   "outputs": [],
   "source": []
  }
 ],
 "metadata": {
  "kernelspec": {
   "display_name": "Python 3",
   "language": "python",
   "name": "python3"
  },
  "language_info": {
   "codemirror_mode": {
    "name": "ipython",
    "version": 3
   },
   "file_extension": ".py",
   "mimetype": "text/x-python",
   "name": "python",
   "nbconvert_exporter": "python",
   "pygments_lexer": "ipython3",
   "version": "3.6.1"
  }
 },
 "nbformat": 4,
 "nbformat_minor": 2
}
